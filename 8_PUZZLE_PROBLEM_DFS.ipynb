{
  "nbformat": 4,
  "nbformat_minor": 0,
  "metadata": {
    "colab": {
      "provenance": [],
      "authorship_tag": "ABX9TyNENM83oCx3RQ1QW3/Ffnbg",
      "include_colab_link": true
    },
    "kernelspec": {
      "name": "python3",
      "display_name": "Python 3"
    },
    "language_info": {
      "name": "python"
    }
  },
  "cells": [
    {
      "cell_type": "markdown",
      "metadata": {
        "id": "view-in-github",
        "colab_type": "text"
      },
      "source": [
        "<a href=\"https://colab.research.google.com/github/VivekDharodia/8-puzzle-problem/blob/main/8_PUZZLE_PROBLEM_DFS.ipynb\" target=\"_parent\"><img src=\"https://colab.research.google.com/assets/colab-badge.svg\" alt=\"Open In Colab\"/></a>"
      ]
    },
    {
      "cell_type": "code",
      "execution_count": 3,
      "metadata": {
        "colab": {
          "base_uri": "https://localhost:8080/"
        },
        "id": "wtOhQNFybyMf",
        "outputId": "fd9db524-17de-4ebc-def7-9e5496c18a1f"
      },
      "outputs": [
        {
          "output_type": "stream",
          "name": "stdout",
          "text": [
            "No solution found.\n"
          ]
        }
      ],
      "source": [
        "from copy import deepcopy\n",
        "\n",
        "# Initial and goal states\n",
        "initial_state = [\n",
        "    [2, 0, 2],\n",
        "    [6, 9, 2],\n",
        "    [6, 1, 0]\n",
        "]\n",
        "\n",
        "goal_state = [\n",
        "    [0, 0, 1],\n",
        "    [6, 9, 2],\n",
        "    [6, 2, 2]\n",
        "]\n",
        "\n",
        "# Function to find the position of the blank (0)\n",
        "def find_blank(state):\n",
        "    for i in range(3):\n",
        "        for j in range(3):\n",
        "            if state[i][j] == 0:\n",
        "                return i, j\n",
        "\n",
        "# Function to swap two positions in the grid\n",
        "def swap(state, pos1, pos2):\n",
        "    new_state = deepcopy(state)\n",
        "    i1, j1 = pos1\n",
        "    i2, j2 = pos2\n",
        "    new_state[i1][j1], new_state[i2][j2] = new_state[i2][j2], new_state[i1][j1]\n",
        "    return new_state\n",
        "\n",
        "# Function to generate possible moves (new states)\n",
        "def get_neighbors(state):\n",
        "    neighbors = []\n",
        "    blank_i, blank_j = find_blank(state)\n",
        "\n",
        "    # Define possible movements\n",
        "    moves = [(-1, 0), (1, 0), (0, -1), (0, 1)]  # up, down, left, right\n",
        "\n",
        "    for move in moves:\n",
        "        new_i = blank_i + move[0]\n",
        "        new_j = blank_j + move[1]\n",
        "\n",
        "        # Check if the new position is within bounds\n",
        "        if 0 <= new_i < 3 and 0 <= new_j < 3:\n",
        "            # Swap blank with the adjacent tile and generate new state\n",
        "            new_state = swap(state, (blank_i, blank_j), (new_i, new_j))\n",
        "            neighbors.append(new_state)\n",
        "\n",
        "    return neighbors\n",
        "\n",
        "# Depth-First Search algorithm\n",
        "def dfs(initial_state, goal_state):\n",
        "    stack = [(initial_state, [])]  # stack contains (current_state, path_to_state)\n",
        "    visited = set()\n",
        "\n",
        "    while stack:\n",
        "        current_state, path = stack.pop()\n",
        "\n",
        "        # Convert state to a tuple of tuples so it can be stored in a set\n",
        "        current_state_tuple = tuple(tuple(row) for row in current_state)\n",
        "\n",
        "        # If the current state is the goal state, return the path to reach it\n",
        "        if current_state == goal_state:\n",
        "            return path + [current_state]\n",
        "\n",
        "        # Skip if the current state has already been visited\n",
        "        if current_state_tuple in visited:\n",
        "            continue\n",
        "\n",
        "        visited.add(current_state_tuple)\n",
        "\n",
        "        # Get neighbors (possible moves) and add them to the stack\n",
        "        for neighbor in get_neighbors(current_state):\n",
        "            stack.append((neighbor, path + [current_state]))\n",
        "\n",
        "    return None  # No solution found\n",
        "\n",
        "# Main execution\n",
        "solution_path = dfs(initial_state, goal_state)\n",
        "\n",
        "if solution_path:\n",
        "    print(\"Solution found:\")\n",
        "    for step in solution_path:\n",
        "        for row in step:\n",
        "            print(row)\n",
        "        print()\n",
        "else:\n",
        "    print(\"No solution found.\")\n"
      ]
    }
  ]
}