{
  "nbformat": 4,
  "nbformat_minor": 0,
  "metadata": {
    "colab": {
      "provenance": [],
      "authorship_tag": "ABX9TyMb/ips4cqgDP32RGxwEEOf",
      "include_colab_link": true
    },
    "kernelspec": {
      "name": "python3",
      "display_name": "Python 3"
    },
    "language_info": {
      "name": "python"
    }
  },
  "cells": [
    {
      "cell_type": "markdown",
      "metadata": {
        "id": "view-in-github",
        "colab_type": "text"
      },
      "source": [
        "<a href=\"https://colab.research.google.com/github/VivekDharodia/8-puzzle-problem/blob/main/8_PUZZLE_PROBLEM_BFS.ipynb\" target=\"_parent\"><img src=\"https://colab.research.google.com/assets/colab-badge.svg\" alt=\"Open In Colab\"/></a>"
      ]
    },
    {
      "cell_type": "code",
      "execution_count": 13,
      "metadata": {
        "id": "g4Zhl2CiRvSP"
      },
      "outputs": [],
      "source": [
        "from copy import deepcopy"
      ]
    },
    {
      "cell_type": "code",
      "source": [
        "#MAKING PAIRS OF NODES\n",
        "def Makepairs(NewNode,NodePair):\n",
        "  parent = []\n",
        "  for i in range(len(NewNode)):\n",
        "    temp=[]\n",
        "    temp.append(NewNode[i])\n",
        "    temp.append(NodePair)\n",
        "    parent.append(temp);\n",
        "  return parent"
      ],
      "metadata": {
        "id": "8qcVVIYkR6p0"
      },
      "execution_count": 14,
      "outputs": []
    },
    {
      "cell_type": "code",
      "source": [
        "#DEFINING AN FUNCTION TO REMOVE THE SEEN NODES WHICH ARE NOT GOALSTATES AND STORE THEM IN CLOSED STACK\n",
        "def RemoveSeen(Closed,children):\n",
        "  ans=[]\n",
        "  for i in range(len(children)):\n",
        "    flag=False\n",
        "    for j in range(len(Closed)):\n",
        "      if(children[i]==Closed[j][0]):\n",
        "        flag=True\n",
        "        break\n",
        "    if(flag==False):\n",
        "      ans.append(children[i])\n",
        "  return ans"
      ],
      "metadata": {
        "id": "jHVuULXlR9qT"
      },
      "execution_count": 15,
      "outputs": []
    },
    {
      "cell_type": "code",
      "source": [
        "#RECONSTRUCTING THE PATH TO GO TO THE INITIAL NODE\n",
        "def Reverse(lst):\n",
        "   new_lst = lst[::-1]\n",
        "   return new_lst\n",
        "\n",
        "def ReconstructPath(NodePair,Closed):\n",
        "  parent=[]\n",
        "  parent.append(NodePair)\n",
        "  for i in Closed:\n",
        "        if i[0]==NodePair:\n",
        "          if(NodePair!=i[1]):\n",
        "            temp=ReconstructPath(i[1],Closed)\n",
        "            for i in temp:\n",
        "                parent.append(i)\n",
        "          else:\n",
        "            break\n",
        "  return parent"
      ],
      "metadata": {
        "id": "LpNlMBFxSAsX"
      },
      "execution_count": 16,
      "outputs": []
    },
    {
      "cell_type": "code",
      "source": [
        "# Function to swap two positions in the grid\n",
        "def swap(Nodepair,ni,nj,i,j):\n",
        "    temp = Nodepair[ni][nj];\n",
        "    Nodepair[ni][nj] = Nodepair[i][j];\n",
        "    Nodepair[i][j] = temp;\n",
        "    return Nodepair;"
      ],
      "metadata": {
        "id": "cS5uGhQCSDs0"
      },
      "execution_count": 17,
      "outputs": []
    },
    {
      "cell_type": "code",
      "source": [
        "# Function to generate possible moves (new states)\n",
        "def MoveGen(Nodepair, i,j):\n",
        "  NewNode = [];\n",
        "  nj = j+1;\n",
        "  n2j = j-1;\n",
        "  ni = i-1;\n",
        "  n2i = i+1;\n",
        "  if(nj<=2):\n",
        "    new_pair = deepcopy(Nodepair)\n",
        "    new_pair = swap(new_pair, i, nj, i, j)\n",
        "    NewNode.append(new_pair)\n",
        "  if(n2j>=0 ):\n",
        "    new_pair = deepcopy(Nodepair)\n",
        "    new_pair = swap(new_pair, i, n2j, i, j)\n",
        "    NewNode.append(new_pair)\n",
        "  if(ni>=0):\n",
        "    new_pair = deepcopy(Nodepair)\n",
        "    new_pair = swap(new_pair, ni, j, i, j)\n",
        "    NewNode.append(new_pair)\n",
        "  if(n2i<=2 ):\n",
        "    new_pair = deepcopy(Nodepair)\n",
        "    new_pair = swap(new_pair, n2i, j, i, j)\n",
        "    NewNode.append(new_pair)\n",
        "  return NewNode;"
      ],
      "metadata": {
        "id": "nzXETtMKSGmk"
      },
      "execution_count": 18,
      "outputs": []
    },
    {
      "cell_type": "code",
      "source": [
        "def func(NodePair):\n",
        "  for i in range(3):\n",
        "    for j in range(3):\n",
        "      if(NodePair[i][j]==9):\n",
        "        return i,j\n",
        "  return -1,-1"
      ],
      "metadata": {
        "id": "Yw4Pg7tjSKGL"
      },
      "execution_count": 19,
      "outputs": []
    },
    {
      "cell_type": "code",
      "source": [
        "def func(NodePair):\n",
        "  for i in range(3):\n",
        "    for j in range(3):\n",
        "      if(NodePair[i][j]==9):\n",
        "        return i,j\n",
        "  return -1,-1"
      ],
      "metadata": {
        "id": "LvW4r6mJSNC1"
      },
      "execution_count": 20,
      "outputs": []
    },
    {
      "cell_type": "code",
      "source": [
        "def db_dfs(OpenNode , GoalNode,depth):\n",
        "  Open = []\n",
        "  temp=[]\n",
        "  temp.append(OpenNode)\n",
        "  temp.append(OpenNode)\n",
        "  temp.append(depth)\n",
        "  Open.append(temp)\n",
        "  Closed = []\n",
        "  Closed.append(temp)\n",
        "  t=1\n",
        "  while (len(Open) > 0) :\n",
        "    NodePair = Open[0][0]\n",
        "    NodeParent = Open[0][1]\n",
        "    NodeDepth = Open[0][2]\n",
        "    Open.pop(0);\n",
        "    if(GoalNode == NodePair):\n",
        "      return ReconstructPath(NodeParent,Closed)\n",
        "    else:\n",
        "      if NodeDepth<depth :\n",
        "        i,j =func(NodePair)\n",
        "        children = MoveGen(NodePair,i,j)\n",
        "        NewNode = RemoveSeen(Closed,children)\n",
        "        NewPairs = Makepairs(NewNode,NodePair)\n",
        "        for it in NewPairs:\n",
        "          it.append(depth+1)\n",
        "          Closed.append(it)\n",
        "          Open.insert(-1,it)\n",
        "  return []"
      ],
      "metadata": {
        "id": "Vj6IyP5YSQFW"
      },
      "execution_count": 21,
      "outputs": []
    },
    {
      "cell_type": "code",
      "source": [
        " #Breadth First Search algorithm\n",
        "def BFS(OpenNode , GoalNode):\n",
        "    Open = []\n",
        "    temp=[]\n",
        "    temp.append(OpenNode)\n",
        "    temp.append(OpenNode)\n",
        "    Open.append(temp)\n",
        "    Closed = []\n",
        "    Closed.append(temp)\n",
        "    t=1\n",
        "    while (len(Open) > 0) :\n",
        "      NodePair = Open[0][0]\n",
        "      NodeParent = Open[0][1]\n",
        "      Open.pop(0);\n",
        "      if(GoalNode == NodePair):\n",
        "        return ReconstructPath(NodeParent,Closed)\n",
        "      else:\n",
        "        i,j =func(NodePair)\n",
        "        children = MoveGen(NodePair,i,j)\n",
        "        NewNode = RemoveSeen(Closed,children)\n",
        "        NewPairs = Makepairs(NewNode,NodePair)\n",
        "        for it in NewPairs:\n",
        "          Closed.append(it)\n",
        "          Open.append(it)\n",
        "    return []"
      ],
      "metadata": {
        "id": "4uGoTBF5SixZ"
      },
      "execution_count": 23,
      "outputs": []
    },
    {
      "cell_type": "code",
      "source": [
        "# Initial and goal states\n",
        "OpenNode =  [ [2,0,2],\n",
        "              [6,9,2],\n",
        "              [6,1,0]]\n",
        "GoalNode = [[0,0,1],\n",
        "            [6,9,2],\n",
        "            [6,2,2]]\n",
        "temp = BFS(OpenNode,GoalNode)\n",
        "\n",
        "temp=Reverse(temp)\n",
        "temp.append(GoalNode)\n",
        "print(len(temp))"
      ],
      "metadata": {
        "colab": {
          "base_uri": "https://localhost:8080/"
        },
        "id": "uxYyDe1wSq7w",
        "outputId": "7b25f3b4-9b9c-49e7-fc35-08f1880664b1"
      },
      "execution_count": 24,
      "outputs": [
        {
          "output_type": "stream",
          "name": "stdout",
          "text": [
            "19\n"
          ]
        }
      ]
    },
    {
      "cell_type": "code",
      "source": [
        "print(temp)"
      ],
      "metadata": {
        "colab": {
          "base_uri": "https://localhost:8080/"
        },
        "id": "RawVXyJCSsF7",
        "outputId": "f73fa7ff-7b0c-4749-8df1-8e21adc78822"
      },
      "execution_count": 25,
      "outputs": [
        {
          "output_type": "stream",
          "name": "stdout",
          "text": [
            "[[[2, 0, 2], [6, 9, 2], [6, 1, 0]], [[2, 0, 2], [6, 1, 2], [6, 9, 0]], [[2, 0, 2], [6, 1, 2], [9, 6, 0]], [[2, 0, 2], [9, 1, 2], [6, 6, 0]], [[9, 0, 2], [2, 1, 2], [6, 6, 0]], [[0, 9, 2], [2, 1, 2], [6, 6, 0]], [[0, 1, 2], [2, 9, 2], [6, 6, 0]], [[0, 1, 2], [9, 2, 2], [6, 6, 0]], [[0, 1, 2], [6, 2, 2], [9, 6, 0]], [[0, 1, 2], [6, 2, 2], [6, 9, 0]], [[0, 1, 2], [6, 2, 2], [6, 0, 9]], [[0, 1, 2], [6, 2, 9], [6, 0, 2]], [[0, 1, 2], [6, 9, 2], [6, 0, 2]], [[0, 1, 2], [6, 0, 2], [6, 9, 2]], [[0, 1, 2], [6, 0, 2], [6, 2, 9]], [[0, 1, 2], [6, 0, 9], [6, 2, 2]], [[0, 1, 9], [6, 0, 2], [6, 2, 2]], [[0, 9, 1], [6, 0, 2], [6, 2, 2]], [[0, 0, 1], [6, 9, 2], [6, 2, 2]]]\n"
          ]
        }
      ]
    }
  ]
}