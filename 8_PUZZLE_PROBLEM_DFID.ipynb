{
  "nbformat": 4,
  "nbformat_minor": 0,
  "metadata": {
    "colab": {
      "provenance": [],
      "authorship_tag": "ABX9TyNKD1zVu+tpfseDgca8eH5O",
      "include_colab_link": true
    },
    "kernelspec": {
      "name": "python3",
      "display_name": "Python 3"
    },
    "language_info": {
      "name": "python"
    }
  },
  "cells": [
    {
      "cell_type": "markdown",
      "metadata": {
        "id": "view-in-github",
        "colab_type": "text"
      },
      "source": [
        "<a href=\"https://colab.research.google.com/github/VivekDharodia/8-puzzle-problem/blob/main/8_PUZZLE_PROBLEM_DFID.ipynb\" target=\"_parent\"><img src=\"https://colab.research.google.com/assets/colab-badge.svg\" alt=\"Open In Colab\"/></a>"
      ]
    },
    {
      "cell_type": "code",
      "execution_count": null,
      "metadata": {
        "id": "SzozjXm2ateI"
      },
      "outputs": [],
      "source": [
        "from copy import deepcopy"
      ]
    },
    {
      "cell_type": "code",
      "source": [
        "#MAKING PAIRS OF NODES\n",
        "def Makepairs(NewNode,NodePair):\n",
        "  parent = []\n",
        "  for i in range(len(NewNode)):\n",
        "    temp=[]\n",
        "    temp.append(NewNode[i])\n",
        "    temp.append(NodePair)\n",
        "    parent.append(temp);\n",
        "  return parent"
      ],
      "metadata": {
        "id": "wUJI1Lzua78d"
      },
      "execution_count": null,
      "outputs": []
    },
    {
      "cell_type": "code",
      "source": [
        "#DEFINING AN FUNCTION TO REMOVE THE SEEN NODES WHICH ARE NOT GOALSTATES AND STORE THEM IN CLOSED STACK\n",
        "def RemoveSeen(Closed,children):\n",
        "  ans=[]\n",
        "  for i in range(len(children)):\n",
        "    flag=False\n",
        "    for j in range(len(Closed)):\n",
        "      if(children[i]==Closed[j][0]):\n",
        "        flag=True\n",
        "        break\n",
        "    if(flag==False):\n",
        "      ans.append(children[i])\n",
        "  return ans"
      ],
      "metadata": {
        "id": "bLR24ZDQbTVl"
      },
      "execution_count": null,
      "outputs": []
    },
    {
      "cell_type": "code",
      "source": [
        "#RECONSTRUCTING THE PATH TO GO TO THE INITIAL NODE\n",
        "def Reverse(lst):\n",
        "   new_lst = lst[::-1]\n",
        "   return new_lst\n",
        "\n",
        "def ReconstructPath(NodePair,Closed):\n",
        "  parent=[]\n",
        "  parent.append(NodePair)\n",
        "  for i in Closed:\n",
        "        if i[0]==NodePair:\n",
        "          if(NodePair!=i[1]):\n",
        "            temp=ReconstructPath(i[1],Closed)\n",
        "            for i in temp:\n",
        "                parent.append(i)\n",
        "          else:\n",
        "            break\n",
        "  return parent"
      ],
      "metadata": {
        "id": "idZVjUJTbZO4"
      },
      "execution_count": null,
      "outputs": []
    },
    {
      "cell_type": "code",
      "source": [
        "# Function to swap two positions in the grid\n",
        "def swap(Nodepair,ni,nj,i,j):\n",
        "    temp = Nodepair[ni][nj];\n",
        "    Nodepair[ni][nj] = Nodepair[i][j];\n",
        "    Nodepair[i][j] = temp;\n",
        "    return Nodepair;"
      ],
      "metadata": {
        "id": "nPaB4Xzmbd9S"
      },
      "execution_count": null,
      "outputs": []
    },
    {
      "cell_type": "code",
      "source": [
        "# Function to generate possible moves (new states)\n",
        "def MoveGen(Nodepair, i,j):\n",
        "  NewNode = [];\n",
        "  nj = j+1;\n",
        "  n2j = j-1;\n",
        "  ni = i-1;\n",
        "  n2i = i+1;\n",
        "  if(nj<=2):\n",
        "    new_pair = deepcopy(Nodepair)\n",
        "    new_pair = swap(new_pair, i, nj, i, j)\n",
        "    NewNode.append(new_pair)\n",
        "  if(n2j>=0 ):\n",
        "    new_pair = deepcopy(Nodepair)\n",
        "    new_pair = swap(new_pair, i, n2j, i, j)\n",
        "    NewNode.append(new_pair)\n",
        "  if(ni>=0):\n",
        "    new_pair = deepcopy(Nodepair)\n",
        "    new_pair = swap(new_pair, ni, j, i, j)\n",
        "    NewNode.append(new_pair)\n",
        "  if(n2i<=2 ):\n",
        "    new_pair = deepcopy(Nodepair)\n",
        "    new_pair = swap(new_pair, n2i, j, i, j)\n",
        "    NewNode.append(new_pair)\n",
        "  return NewNode;"
      ],
      "metadata": {
        "id": "4ZWdViIxbhbU"
      },
      "execution_count": null,
      "outputs": []
    },
    {
      "cell_type": "markdown",
      "source": [],
      "metadata": {
        "id": "6U8jzKMFboEJ"
      }
    },
    {
      "cell_type": "code",
      "source": [
        "def func(NodePair):\n",
        "  for i in range(3):\n",
        "    for j in range(3):\n",
        "      if(NodePair[i][j]==9):\n",
        "        return i,j\n",
        "  return -1,-1"
      ],
      "metadata": {
        "id": "J7XzqWr-bleM"
      },
      "execution_count": null,
      "outputs": []
    },
    {
      "cell_type": "code",
      "source": [],
      "metadata": {
        "id": "f3jAmTNJbwjc"
      },
      "execution_count": null,
      "outputs": []
    },
    {
      "cell_type": "code",
      "source": [
        "def db_dfs(OpenNode, GoalNode, depth):\n",
        "    Open = []\n",
        "    Closed = []\n",
        "    temp = [OpenNode, OpenNode, 0]\n",
        "    Open.append(temp)\n",
        "    Closed.append(temp)\n",
        "\n",
        "    while Open:\n",
        "        NodePair = Open[0][0]\n",
        "        NodeParent = Open[0][1]\n",
        "        NodeDepth = Open[0][2]\n",
        "        Open.pop(0)\n",
        "\n",
        "        if GoalNode == NodePair:#IF ANSWER IS FOUND\n",
        "            return ReconstructPath(NodeParent, Closed)\n",
        "\n",
        "        if NodeDepth < depth: #IF THE DEPTH OF THE CURRENT NODE IS LESS THAN DEPTH\n",
        "            i, j = func(NodePair)\n",
        "            children = MoveGen(NodePair, i, j)\n",
        "            NewNode = RemoveSeen(Closed, children)\n",
        "            NewPairs = Makepairs(NewNode, NodePair)\n",
        "\n",
        "            for it in NewPairs:#UPDATING NEW NODE\n",
        "                it.append(NodeDepth + 1)\n",
        "                Closed.append(it)\n",
        "                Open.insert(0, it)  # Insert at the front for depth-first search\n",
        "\n",
        "    return None"
      ],
      "metadata": {
        "id": "V5_aQmcCb1K5"
      },
      "execution_count": null,
      "outputs": []
    },
    {
      "cell_type": "code",
      "source": [
        "# Depth-First ITERATIVE DEEPENING Search algorithm\n",
        "def DFID(OpenNode , GoalNode):\n",
        "  depth = 0\n",
        "  while(True):\n",
        "    result = db_dfs(OpenNode,GoalNode,depth)\n",
        "    if result:\n",
        "      return result\n",
        "    depth+=1"
      ],
      "metadata": {
        "id": "6RvuBspvb6HD"
      },
      "execution_count": null,
      "outputs": []
    },
    {
      "cell_type": "code",
      "source": [
        "# Initial and goal states\n",
        "OpenNode =  [ [2,0,2],\n",
        "              [6,9,2],\n",
        "              [6,1,0]]\n",
        "GoalNode = [[0,0,1],\n",
        "            [6,9,2],\n",
        "            [6,2,2]]\n",
        "temp = DFID(OpenNode,GoalNode)\n",
        "\n",
        "temp=Reverse(temp)\n",
        "temp.append(GoalNode)\n",
        "print(len(temp))"
      ],
      "metadata": {
        "id": "V0UMwO9ScodL",
        "colab": {
          "base_uri": "https://localhost:8080/"
        },
        "outputId": "971f4e32-35de-438a-b68f-462652386fce"
      },
      "execution_count": null,
      "outputs": [
        {
          "output_type": "stream",
          "name": "stdout",
          "text": [
            "25\n"
          ]
        }
      ]
    },
    {
      "cell_type": "code",
      "source": [
        "for i in temp:\n",
        "  print(i)"
      ],
      "metadata": {
        "colab": {
          "base_uri": "https://localhost:8080/"
        },
        "id": "0xGFTuiZKjd4",
        "outputId": "b76f815d-8b6d-4d09-c21f-aaabd60abe29"
      },
      "execution_count": null,
      "outputs": [
        {
          "output_type": "stream",
          "name": "stdout",
          "text": [
            "[[2, 0, 2], [6, 9, 2], [6, 1, 0]]\n",
            "[[2, 0, 2], [6, 1, 2], [6, 9, 0]]\n",
            "[[2, 0, 2], [6, 1, 2], [9, 6, 0]]\n",
            "[[2, 0, 2], [9, 1, 2], [6, 6, 0]]\n",
            "[[9, 0, 2], [2, 1, 2], [6, 6, 0]]\n",
            "[[0, 9, 2], [2, 1, 2], [6, 6, 0]]\n",
            "[[0, 1, 2], [2, 9, 2], [6, 6, 0]]\n",
            "[[0, 1, 2], [2, 6, 2], [6, 9, 0]]\n",
            "[[0, 1, 2], [2, 6, 2], [9, 6, 0]]\n",
            "[[0, 1, 2], [9, 6, 2], [2, 6, 0]]\n",
            "[[0, 1, 2], [6, 9, 2], [2, 6, 0]]\n",
            "[[0, 1, 2], [6, 6, 2], [2, 9, 0]]\n",
            "[[0, 1, 2], [6, 6, 2], [9, 2, 0]]\n",
            "[[0, 1, 2], [9, 6, 2], [6, 2, 0]]\n",
            "[[0, 1, 2], [6, 9, 2], [6, 2, 0]]\n",
            "[[0, 1, 2], [6, 2, 2], [6, 9, 0]]\n",
            "[[0, 1, 2], [6, 2, 2], [6, 0, 9]]\n",
            "[[0, 1, 2], [6, 2, 9], [6, 0, 2]]\n",
            "[[0, 1, 2], [6, 9, 2], [6, 0, 2]]\n",
            "[[0, 1, 2], [6, 0, 2], [6, 9, 2]]\n",
            "[[0, 1, 2], [6, 0, 2], [6, 2, 9]]\n",
            "[[0, 1, 2], [6, 0, 9], [6, 2, 2]]\n",
            "[[0, 1, 9], [6, 0, 2], [6, 2, 2]]\n",
            "[[0, 9, 1], [6, 0, 2], [6, 2, 2]]\n",
            "[[0, 0, 1], [6, 9, 2], [6, 2, 2]]\n"
          ]
        }
      ]
    },
    {
      "cell_type": "code",
      "source": [],
      "metadata": {
        "id": "4heEQ61jiZ9y"
      },
      "execution_count": null,
      "outputs": []
    }
  ]
}